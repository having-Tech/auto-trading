{
 "cells": [
  {
   "cell_type": "code",
   "execution_count": 1,
   "metadata": {},
   "outputs": [
    {
     "name": "stderr",
     "output_type": "stream",
     "text": [
      "Using TensorFlow backend.\n"
     ]
    }
   ],
   "source": [
    "import pandas as pd\n",
    "import numpy as np\n",
    "import matplotlib.pyplot as plt\n",
    "from keras.models import Sequential\n",
    "from keras.layers import LSTM, Dropout, Dense, Activation\n",
    "from keras.callbacks import TensorBoard, ModelCheckpoint, ReduceLROnPlateau\n",
    "import datetime"
   ]
  },
  {
   "cell_type": "code",
   "execution_count": 2,
   "metadata": {},
   "outputs": [
    {
     "data": {
      "text/html": [
       "<div>\n",
       "<style scoped>\n",
       "    .dataframe tbody tr th:only-of-type {\n",
       "        vertical-align: middle;\n",
       "    }\n",
       "\n",
       "    .dataframe tbody tr th {\n",
       "        vertical-align: top;\n",
       "    }\n",
       "\n",
       "    .dataframe thead th {\n",
       "        text-align: right;\n",
       "    }\n",
       "</style>\n",
       "<table border=\"1\" class=\"dataframe\">\n",
       "  <thead>\n",
       "    <tr style=\"text-align: right;\">\n",
       "      <th></th>\n",
       "      <th>Date</th>\n",
       "      <th>Open*</th>\n",
       "      <th>High</th>\n",
       "      <th>Low</th>\n",
       "      <th>Close**</th>\n",
       "      <th>Volume</th>\n",
       "      <th>Market Cap</th>\n",
       "    </tr>\n",
       "  </thead>\n",
       "  <tbody>\n",
       "    <tr>\n",
       "      <th>0</th>\n",
       "      <td>20.Sep.17</td>\n",
       "      <td>3.72</td>\n",
       "      <td>3.91</td>\n",
       "      <td>3.72</td>\n",
       "      <td>3.78</td>\n",
       "      <td>387,173,588</td>\n",
       "      <td>1,324,114,575</td>\n",
       "    </tr>\n",
       "    <tr>\n",
       "      <th>1</th>\n",
       "      <td>21.Sep.17</td>\n",
       "      <td>3.91</td>\n",
       "      <td>3.96</td>\n",
       "      <td>3.68</td>\n",
       "      <td>3.72</td>\n",
       "      <td>469,432,714</td>\n",
       "      <td>1,302,166,857</td>\n",
       "    </tr>\n",
       "    <tr>\n",
       "      <th>2</th>\n",
       "      <td>22.Sep.17</td>\n",
       "      <td>3.68</td>\n",
       "      <td>3.96</td>\n",
       "      <td>3.65</td>\n",
       "      <td>3.91</td>\n",
       "      <td>479,767,865</td>\n",
       "      <td>1,367,124,006</td>\n",
       "    </tr>\n",
       "    <tr>\n",
       "      <th>3</th>\n",
       "      <td>23.Sep.17</td>\n",
       "      <td>3.64</td>\n",
       "      <td>3.74</td>\n",
       "      <td>3.60</td>\n",
       "      <td>3.68</td>\n",
       "      <td>336,584,772</td>\n",
       "      <td>1,286,363,619</td>\n",
       "    </tr>\n",
       "    <tr>\n",
       "      <th>4</th>\n",
       "      <td>24.Sep.17</td>\n",
       "      <td>3.72</td>\n",
       "      <td>3.74</td>\n",
       "      <td>3.50</td>\n",
       "      <td>3.64</td>\n",
       "      <td>418,502,740</td>\n",
       "      <td>1,274,664,482</td>\n",
       "    </tr>\n",
       "  </tbody>\n",
       "</table>\n",
       "</div>"
      ],
      "text/plain": [
       "        Date  Open*  High   Low  Close**       Volume     Market Cap\n",
       "0  20.Sep.17   3.72  3.91  3.72     3.78  387,173,588  1,324,114,575\n",
       "1  21.Sep.17   3.91  3.96  3.68     3.72  469,432,714  1,302,166,857\n",
       "2  22.Sep.17   3.68  3.96  3.65     3.91  479,767,865  1,367,124,006\n",
       "3  23.Sep.17   3.64  3.74  3.60     3.68  336,584,772  1,286,363,619\n",
       "4  24.Sep.17   3.72  3.74  3.50     3.64  418,502,740  1,274,664,482"
      ]
     },
     "execution_count": 2,
     "metadata": {},
     "output_type": "execute_result"
    }
   ],
   "source": [
    "data = pd.read_csv('dataset/chaincoin.csv')\n",
    "data.head()"
   ]
  },
  {
   "cell_type": "code",
   "execution_count": 3,
   "metadata": {},
   "outputs": [
    {
     "name": "stdout",
     "output_type": "stream",
     "text": [
      "<class 'numpy.ndarray'>\n",
      "<class 'numpy.ndarray'>\n"
     ]
    }
   ],
   "source": [
    "high_prices = data['High'].values\n",
    "print(type(high_prices))\n",
    "\n",
    "low_prices = data['Low'].values\n",
    "print(type(low_prices))\n",
    "mid_prices = (high_prices + low_prices) / 2"
   ]
  },
  {
   "cell_type": "code",
   "execution_count": 4,
   "metadata": {},
   "outputs": [],
   "source": [
    "seq_len = 50\n",
    "sequence_length = seq_len + 1\n",
    "\n",
    "result = []\n",
    "for index in range(len(mid_prices) - sequence_length):\n",
    "    result.append(mid_prices[index: index + sequence_length])"
   ]
  },
  {
   "cell_type": "code",
   "execution_count": 5,
   "metadata": {},
   "outputs": [
    {
     "data": {
      "text/plain": [
       "((814, 50, 1), (90, 50, 1))"
      ]
     },
     "execution_count": 5,
     "metadata": {},
     "output_type": "execute_result"
    }
   ],
   "source": [
    "\n",
    "def normalize_windows(data):\n",
    "    normalized_data = []\n",
    "    for window in data:\n",
    "        normalized_window = [((float(p) / float(window[0])) - 1) for p in window]\n",
    "        normalized_data.append(normalized_window)\n",
    "    return np.array(normalized_data)\n",
    "\n",
    "result = normalize_windows(result)\n",
    "\n",
    "# split train and test data\n",
    "row = int(round(result.shape[0] * 0.9))\n",
    "train = result[:row, :]\n",
    "np.random.shuffle(train)\n",
    "\n",
    "x_train = train[:, :-1]\n",
    "x_train = np.reshape(x_train, (x_train.shape[0], x_train.shape[1], 1))\n",
    "y_train = train[:, -1]\n",
    "\n",
    "x_test = result[row:, :-1]\n",
    "x_test = np.reshape(x_test, (x_test.shape[0], x_test.shape[1], 1))\n",
    "y_test = result[row:, -1]\n",
    "\n",
    "x_train.shape, x_test.shape"
   ]
  },
  {
   "cell_type": "code",
   "execution_count": 6,
   "metadata": {},
   "outputs": [
    {
     "name": "stdout",
     "output_type": "stream",
     "text": [
      "Model: \"sequential_1\"\n",
      "_________________________________________________________________\n",
      "Layer (type)                 Output Shape              Param #   \n",
      "=================================================================\n",
      "lstm_1 (LSTM)                (None, 50, 50)            10400     \n",
      "_________________________________________________________________\n",
      "lstm_2 (LSTM)                (None, 64)                29440     \n",
      "_________________________________________________________________\n",
      "dense_1 (Dense)              (None, 1)                 65        \n",
      "=================================================================\n",
      "Total params: 39,905\n",
      "Trainable params: 39,905\n",
      "Non-trainable params: 0\n",
      "_________________________________________________________________\n"
     ]
    }
   ],
   "source": [
    "\n",
    "model = Sequential()\n",
    "\n",
    "model.add(LSTM(50, return_sequences=True, input_shape=(50, 1)))\n",
    "\n",
    "model.add(LSTM(64, return_sequences=False))\n",
    "\n",
    "model.add(Dense(1, activation='linear'))\n",
    "\n",
    "model.compile(loss='mse', optimizer='rmsprop')\n",
    "\n",
    "model.summary()"
   ]
  },
  {
   "cell_type": "code",
   "execution_count": 7,
   "metadata": {},
   "outputs": [
    {
     "name": "stdout",
     "output_type": "stream",
     "text": [
      "Train on 814 samples, validate on 90 samples\n",
      "Epoch 1/20\n",
      "814/814 [==============================] - 3s 4ms/step - loss: 0.0475 - val_loss: 0.0617\n",
      "\n",
      "Epoch 00001: val_loss improved from inf to 0.06168, saving model to ./models/2020_05_02_14_52_17_chain.h5\n",
      "Epoch 2/20\n",
      "814/814 [==============================] - 3s 3ms/step - loss: 0.0235 - val_loss: 0.0498\n",
      "\n",
      "Epoch 00002: val_loss improved from 0.06168 to 0.04977, saving model to ./models/2020_05_02_14_52_17_chain.h5\n",
      "Epoch 3/20\n",
      "814/814 [==============================] - 2s 3ms/step - loss: 0.0180 - val_loss: 0.0273\n",
      "\n",
      "Epoch 00003: val_loss improved from 0.04977 to 0.02730, saving model to ./models/2020_05_02_14_52_17_chain.h5\n",
      "Epoch 4/20\n",
      "814/814 [==============================] - 3s 3ms/step - loss: 0.0131 - val_loss: 0.0310\n",
      "\n",
      "Epoch 00004: val_loss did not improve from 0.02730\n",
      "Epoch 5/20\n",
      "814/814 [==============================] - 2s 3ms/step - loss: 0.0113 - val_loss: 0.0331\n",
      "\n",
      "Epoch 00005: val_loss did not improve from 0.02730\n",
      "Epoch 6/20\n",
      "814/814 [==============================] - 2s 3ms/step - loss: 0.0103 - val_loss: 0.0240\n",
      "\n",
      "Epoch 00006: val_loss improved from 0.02730 to 0.02396, saving model to ./models/2020_05_02_14_52_17_chain.h5\n",
      "Epoch 7/20\n",
      "814/814 [==============================] - 2s 3ms/step - loss: 0.0087 - val_loss: 0.0195\n",
      "\n",
      "Epoch 00007: val_loss improved from 0.02396 to 0.01948, saving model to ./models/2020_05_02_14_52_17_chain.h5\n",
      "Epoch 8/20\n",
      "814/814 [==============================] - 2s 3ms/step - loss: 0.0081 - val_loss: 0.0231\n",
      "\n",
      "Epoch 00008: val_loss did not improve from 0.01948\n",
      "Epoch 9/20\n",
      "814/814 [==============================] - 2s 3ms/step - loss: 0.0072 - val_loss: 0.0168\n",
      "\n",
      "Epoch 00009: val_loss improved from 0.01948 to 0.01676, saving model to ./models/2020_05_02_14_52_17_chain.h5\n",
      "Epoch 10/20\n",
      "814/814 [==============================] - 2s 3ms/step - loss: 0.0071 - val_loss: 0.0157\n",
      "\n",
      "Epoch 00010: val_loss improved from 0.01676 to 0.01568, saving model to ./models/2020_05_02_14_52_17_chain.h5\n",
      "Epoch 11/20\n",
      "814/814 [==============================] - 3s 3ms/step - loss: 0.0069 - val_loss: 0.0201\n",
      "\n",
      "Epoch 00011: val_loss did not improve from 0.01568\n",
      "Epoch 12/20\n",
      "814/814 [==============================] - 3s 3ms/step - loss: 0.0066 - val_loss: 0.0227\n",
      "\n",
      "Epoch 00012: val_loss did not improve from 0.01568\n",
      "Epoch 13/20\n",
      "814/814 [==============================] - 2s 3ms/step - loss: 0.0065 - val_loss: 0.0168\n",
      "\n",
      "Epoch 00013: val_loss did not improve from 0.01568\n",
      "Epoch 14/20\n",
      "814/814 [==============================] - 2s 3ms/step - loss: 0.0064 - val_loss: 0.0232\n",
      "\n",
      "Epoch 00014: val_loss did not improve from 0.01568\n",
      "Epoch 15/20\n",
      "814/814 [==============================] - 2s 3ms/step - loss: 0.0066 - val_loss: 0.0230\n",
      "\n",
      "Epoch 00015: val_loss did not improve from 0.01568\n",
      "\n",
      "Epoch 00015: ReduceLROnPlateau reducing learning rate to 0.00020000000949949026.\n",
      "Epoch 16/20\n",
      "814/814 [==============================] - 2s 3ms/step - loss: 0.0056 - val_loss: 0.0179\n",
      "\n",
      "Epoch 00016: val_loss did not improve from 0.01568\n",
      "Epoch 17/20\n",
      "814/814 [==============================] - 3s 3ms/step - loss: 0.0055 - val_loss: 0.0174\n",
      "\n",
      "Epoch 00017: val_loss did not improve from 0.01568\n",
      "Epoch 18/20\n",
      "814/814 [==============================] - 3s 4ms/step - loss: 0.0055 - val_loss: 0.0181\n",
      "\n",
      "Epoch 00018: val_loss did not improve from 0.01568\n",
      "Epoch 19/20\n",
      "814/814 [==============================] - 3s 4ms/step - loss: 0.0055 - val_loss: 0.0184\n",
      "\n",
      "Epoch 00019: val_loss did not improve from 0.01568\n",
      "Epoch 20/20\n",
      "814/814 [==============================] - 3s 3ms/step - loss: 0.0055 - val_loss: 0.0167\n",
      "\n",
      "Epoch 00020: val_loss did not improve from 0.01568\n",
      "\n",
      "Epoch 00020: ReduceLROnPlateau reducing learning rate to 4.0000001899898055e-05.\n"
     ]
    },
    {
     "data": {
      "text/plain": [
       "<keras.callbacks.callbacks.History at 0x1501cac40>"
      ]
     },
     "execution_count": 7,
     "metadata": {},
     "output_type": "execute_result"
    }
   ],
   "source": [
    "start_time = datetime.datetime.now().strftime('%Y_%m_%d_%H_%M_%S')\n",
    "\n",
    "model.fit(x_train, y_train,\n",
    "    validation_data=(x_test, y_test),\n",
    "    batch_size=10,\n",
    "    epochs=20,\n",
    "    callbacks=[\n",
    "        TensorBoard(log_dir='logs/%s' % (start_time)),\n",
    "        ModelCheckpoint('./models/%s_chain.h5' % (start_time), monitor='val_loss', verbose=1, save_best_only=True, mode='auto'),\n",
    "        ReduceLROnPlateau(monitor='val_loss', factor=0.2, patience=5, verbose=1, mode='auto')\n",
    "])"
   ]
  },
  {
   "cell_type": "code",
   "execution_count": 8,
   "metadata": {},
   "outputs": [
    {
     "data": {
      "image/png": "[encoded data removed]",
      "text/plain": [
       "<Figure size 1440x720 with 1 Axes>"
      ]
     },
     "metadata": {},
     "output_type": "display_data"
    }
   ],
   "source": [
    "pred = model.predict(x_test)\n",
    "\n",
    "fig = plt.figure(facecolor='white', figsize=(20, 10))\n",
    "ax = fig.add_subplot(111)\n",
    "ax.plot(y_test, label='True')\n",
    "ax.plot(pred, label='Prediction')\n",
    "ax.legend()\n",
    "plt.show()"
   ]
  }
 ],
 "metadata": {
  "kernelspec": {
   "display_name": "Python 3",
   "language": "python",
   "name": "python3"
  },
  "language_info": {
   "codemirror_mode": {
    "name": "ipython",
    "version": 3
   },
   "file_extension": ".py",
   "mimetype": "text/x-python",
   "name": "python",
   "nbconvert_exporter": "python",
   "pygments_lexer": "ipython3",
   "version": "3.8.1"
  }
 },
 "nbformat": 4,
 "nbformat_minor": 4
}
